{
  "nbformat": 4,
  "nbformat_minor": 0,
  "metadata": {
    "accelerator": "GPU",
    "colab": {
      "name": "SFC-CAE Compression.ipynb",
      "provenance": [],
      "collapsed_sections": [],
      "toc_visible": true,
      "machine_shape": "hm"
    },
    "kernelspec": {
      "display_name": "Python 3",
      "language": "python",
      "name": "python3"
    },
    "language_info": {
      "codemirror_mode": {
        "name": "ipython",
        "version": 3
      },
      "file_extension": ".py",
      "mimetype": "text/x-python",
      "name": "python",
      "nbconvert_exporter": "python",
      "pygments_lexer": "ipython3",
      "version": "3.8.3"
    }
  },
  "cells": [
    {
      "cell_type": "markdown",
      "metadata": {
        "id": "RurK3C9mlog2"
      },
      "source": [
        "===================================================\n",
        "### Code developed by: Yushen Lin and Jin Yu\n",
        "\n",
        "### Contact: yl2020@ic.ac.uk, jin.yu20@imperial.ac.uk\n",
        "==================================================="
      ]
    },
    {
      "cell_type": "markdown",
      "metadata": {
        "id": "4dGkbGkxYliy"
      },
      "source": [
        "## Table of content:\n",
        "* [Space filling curve](#first-bullet)\n",
        "* [Convolutional autoencoder](#second-bullet)"
      ]
    },
    {
      "cell_type": "markdown",
      "metadata": {
        "id": "D9SKoZ1Qlucq"
      },
      "source": [
        "# Import Required Libraries "
      ]
    },
    {
      "cell_type": "code",
      "metadata": {
        "colab": {
          "base_uri": "https://localhost:8080/"
        },
        "id": "kOpnHgstlsdC",
        "outputId": "66a45839-0c69-4449-f5a9-975100a505c8"
      },
      "source": [
        "# mounting the google drive\n",
        "from google.colab import drive\n",
        "drive.mount('/content/gdrive/')"
      ],
      "execution_count": null,
      "outputs": [
        {
          "name": "stdout",
          "output_type": "stream",
          "text": [
            "Drive already mounted at /content/gdrive/; to attempt to forcibly remount, call drive.mount(\"/content/gdrive/\", force_remount=True).\n"
          ]
        }
      ]
    },
    {
      "cell_type": "code",
      "metadata": {
        "id": "8JdKf9GenNql"
      },
      "source": [
        "import os\n",
        "os.chdir('/content/gdrive/MyDrive/dimension reduction')"
      ],
      "execution_count": null,
      "outputs": []
    },
    {
      "cell_type": "code",
      "metadata": {
        "id": "yIIOdsIaK193"
      },
      "source": [
        "!pip install vtk -q\n",
        "!pip install livelossplot -q\n",
        "!pip install cmocean -q\n",
        "!pip install meshio -q"
      ],
      "execution_count": null,
      "outputs": []
    },
    {
      "cell_type": "markdown",
      "metadata": {
        "id": "3UK2lCxQvOSs"
      },
      "source": [
        "mesh = meshio.read(filename,  # string, os.PathLike, or a buffer/open file\n",
        "\n",
        "file_format=\"stl\",  # optional if filename is a path; inferred from extension\n",
        "\n",
        "mesh.points, mesh.cells, mesh.cells_dict, ..."
      ]
    },
    {
      "cell_type": "code",
      "metadata": {
        "id": "ITUOXukGwk-i"
      },
      "source": [
        "!python -m numpy.f2py -c space_filling_decomp_new.f90 -m space_filling_decomp_new"
      ],
      "execution_count": null,
      "outputs": []
    },
    {
      "cell_type": "code",
      "metadata": {
        "id": "DYH0UmvwLxDd"
      },
      "source": [
        "# Python ≥3.5 is required\n",
        "import sys\n",
        "assert sys.version_info >= (3, 5)\n",
        "\n",
        "# Scikit-Learn ≥0.20 is required\n",
        "import sklearn\n",
        "assert sklearn.__version__ >= \"0.20\"\n",
        "\n",
        "# TensorFlow ≥2.0 is required\n",
        "import tensorflow as tf\n",
        "from tensorflow import keras\n",
        "assert tf.__version__ >= \"2.0\"\n",
        "\n",
        "# Common imports\n",
        "import os\n",
        "import numpy as np\n",
        "\n",
        "# To plot pretty figures\n",
        "%matplotlib inline\n",
        "import matplotlib as mpl\n",
        "import matplotlib.pyplot as plt\n",
        "\n",
        "mpl.rc('axes', labelsize=14)\n",
        "mpl.rc('xtick', labelsize=12)\n",
        "mpl.rc('ytick', labelsize=12)\n",
        "\n",
        "import pandas as pd\n",
        "import gzip\n",
        "import vtk\n",
        "import vtktools\n",
        "\n",
        "import space_filling_decomp_new as sfc\n",
        "import sys, os\n",
        "import datetime, time\n",
        "\n",
        "import torch\n",
        "import torch.nn as nn\n",
        "import torch.nn.functional as F\n",
        "import torch.utils.data as Data\n",
        "\n",
        "import platform\n",
        "\n",
        "import glob\n",
        "import progressbar\n",
        "import meshio\n",
        "import cmocean\n",
        "import joblib"
      ],
      "execution_count": null,
      "outputs": []
    },
    {
      "cell_type": "markdown",
      "metadata": {
        "id": "7ZvgBq59oGOw"
      },
      "source": [
        "# Space filling curve  <a name='first-bullet'></a>\n",
        "\n",
        "Space filling curves are one-dimensional(1D) orederings which traverse every single data in the multi-dimensional space one time, and it reorders data in multi-dimensional space that maps to 1D space.\n",
        "\n",
        "SFCs produce a continuous curve through a finite element mesh, in\n",
        "which the curve traverses every node of the mesh."
      ]
    },
    {
      "cell_type": "code",
      "metadata": {
        "id": "dIoe_uzMfqif"
      },
      "source": [
        "# comment this to enable interactive mode\n",
        "path = '/content/gdrive/MyDrive/dimension reduction/SFC example'\n",
        "os.chdir(path)\n",
        "import matplotlib\n",
        "matplotlib.use('AGG')\n",
        "\n",
        "import numpy as np\n",
        "import matplotlib.pyplot as plt\n",
        "import os\n",
        "\n",
        "def apply_rules(s):\n",
        "  \"\"\" Hilbert Curve as a Lindenmayer system (L-system)\n",
        "  https://en.wikipedia.org/wiki/Hilbert_curve#Representation_as_Lindenmayer_system\n",
        "  \n",
        "  Here, \"F\" means \"draw forward\", \"+\" means \"turn left 90°\", \n",
        "  \"-\" means \"turn right 90°\" (see turtle graphics), \n",
        "  and \"A\" and \"B\" are ignored during drawing.\"\"\"\n",
        "\n",
        "  s=s.replace(\"a\",\"-Bf+AfA+fB-\")  # capital letters \"A\" and \"B\" so that the second operation\n",
        "  s=s.replace(\"b\",\"+Af-BfB-fA+\")  # doesn't apply to the changes already made\n",
        "  return s.lower() # make everyone lowercase\n",
        "\n",
        "axiom = \"a\"\n",
        "n=5 # number of iterations\n",
        "# displacements, ordered in a counter-clockwise direction\n",
        "dxdy = np.array([[ 1, 0],    # right\n",
        "          [ 0, 1],    # up\n",
        "          [-1, 0],    # left\n",
        "          [ 0,-1] ])  # down\n",
        "# displacement is of size 1, so the higher n is, the greater the domain\n",
        "length = 2**n-1; margin = 0.05*length\n",
        "domain = [0-margin,length+margin,0-margin,length+margin] # a 5% margin around the curve\n",
        "s = axiom # string to iterate upon\n",
        "\n",
        "for i in np.arange(n):\n",
        "  s = apply_rules(s)\n",
        "\n",
        "make_movie=True\n",
        "plt.ion() # interactive mode disabled if \"matplotlib.use('AGG')\"\n",
        "fig = plt.figure(figsize=(6,6))\n",
        "ax = fig.add_subplot(111)\n",
        "ax.axis('off')                        # no frame\n",
        "ax.axis(domain)                       # domain size\n",
        "ax.set_aspect('equal')                # square look\n",
        "ax.set_xticks([]); ax.set_yticks([])  # no ticks\n",
        "ax.set_title(r\"$n = {:d}$\".format(n))\n",
        "# plt.show()\n",
        "\n",
        "# \"a\" and \"b\" can be erased now\n",
        "s=s.replace(\"a\",\"\")\n",
        "s=s.replace(\"b\",\"\")\n",
        "\n",
        "frame_names = []  # these two are only relevant if make_movie==True\n",
        "frame_counter=0\n",
        "\n",
        "p = np.array([[0.0,0.0]]) # this is the starting point (0,0)\n",
        "p_plot, = plt.plot(p[:,0],p[:,1],color=\"black\")\n",
        "\n",
        "# iterate on the string s\n",
        "for i,c in enumerate(s):\n",
        "  # uncomment to see how fast things are going\n",
        "  # print(\"{:d}/{:d}\".format(i,len(s)))\n",
        "  \n",
        "  # rotations \"+\" and \"-\" change the displacement array dxdy\n",
        "  # \"+\" means clockwise rotation\n",
        "  if c == '+': dxdy = np.roll(dxdy,+1,axis=0)\n",
        "  # \"-\" means counter-clockwise rotation\n",
        "  if c == '-': dxdy = np.roll(dxdy,-1,axis=0)\n",
        "  # forward \"f\"\n",
        "  if c == 'f':\n",
        "    # add one more point to array p\n",
        "    p = np.vstack([p, [p[-1,0]+dxdy[0,0],p[-1,1]+dxdy[0,1]] ])\n",
        "    # update p_plot data, this is MUCH faster that plotting\n",
        "    # several line segments separately\n",
        "    p_plot.set_data(p[:,0],p[:,1])\n",
        "    fig.canvas.draw()\n",
        "    if make_movie:\n",
        "      fname = \"_tmp{:05d}.png\".format(frame_counter)\n",
        "      frame_names.append(fname)\n",
        "      fig.savefig(fname,bbox_inches='tight',resolution=300)\n",
        "    frame_counter += 1\n",
        "    "
      ],
      "execution_count": null,
      "outputs": []
    },
    {
      "cell_type": "markdown",
      "metadata": {
        "id": "8KymRVSlk9FQ"
      },
      "source": [
        "full_tensor: The tensor of all vtu_fields you specified for all snapshots in the {data_path}, 3-dimension, the first dimension is number of snapshots in that {data_path}, the second is the number of Nodes in each snapshots, the last is number of components in the vtu_fields, for example, in this FPC test case, two components for Velocity, one for Pressure.\n",
        "\n",
        "coords: The coordinates of the unadapted mesh Nodes from the vtu file, 3-dimension."
      ]
    },
    {
      "cell_type": "markdown",
      "metadata": {
        "id": "ValRlGxrIFme"
      },
      "source": [
        "## Plot the contour"
      ]
    },
    {
      "cell_type": "code",
      "metadata": {
        "id": "qxspkR5tIwXK"
      },
      "source": [
        "def countour_plot_vtu_2D(coords, levels, values=None, cmap = None):\n",
        "    '''\n",
        "    This function plots the contour of a 2D unstructured mesh based on a coordinate sequence.\n",
        "    Input:\n",
        "    ---\n",
        "    coords: [2d-array] of shape(number of Nodes, 2/3), suggest to combine it with space-filling orderings, e.g. coords[sfc_ordering].\n",
        "    levels: [int] the levels of colormap for the plot.\n",
        "    mask: [bool] mask the cylinder, only turn it on for the 'Flow Past Cylinder' Case.\n",
        "    Values: [1d-array] of shape(number of Nodes, ), default is Node indexing, suggest you will use this for plotting scalar field? Not suggested, too slow.\n",
        "    cmap: [camp object] a custom cmap like 'cmocean.cm.ice' or an official colormap like 'inferno'.\n",
        "    Output:\n",
        "    ---\n",
        "    NoneType: the plot.\n",
        "    '''\n",
        "    x = coords[:, 0]\n",
        "    y = coords[:, 1]\n",
        "    x_left = x.min()\n",
        "    x_right = x.max()\n",
        "    y_bottom = y.min()\n",
        "    y_top = y.max()\n",
        "    y_scale = (y_top - y_bottom) / (x_right - x_left)\n",
        "    fig, ax = plt.subplots(figsize=(40, 40 * y_scale))\n",
        "    ax.set_xlim(x_left, x_right)\n",
        "    ax.set_ylim(y_bottom, y_top)\n",
        "    \n",
        "    triang = tri.Triangulation(x, y)\n",
        "\n",
        "    if values == None:\n",
        "        values=np.arange(coords.shape[0])\n",
        "    \n",
        "\n",
        "    plt.tricontourf(triang, values, levels = levels, cmap = cmap)    \n",
        "    plt.axis('off')\n",
        "    plt.show()  "
      ],
      "execution_count": null,
      "outputs": []
    },
    {
      "cell_type": "markdown",
      "metadata": {
        "id": "f3u2u4KtMXg3"
      },
      "source": [
        "## Train, validation and test dataset initialisation"
      ]
    },
    {
      "cell_type": "code",
      "metadata": {
        "id": "Ar_2-PjK81eb"
      },
      "source": [
        "from structured import *\n",
        "from training import *\n",
        "from util import *\n",
        "from sfc_cae import *"
      ],
      "execution_count": null,
      "outputs": []
    },
    {
      "cell_type": "code",
      "metadata": {
        "id": "zR5RqXniioYs"
      },
      "source": [
        "# data path might be changed if you want to import in your own dir\n",
        "data_path = 'ClarenceData/'\n",
        "vtu_fields = ['CO2_ppm', 'Velocity'] # vtu fields you want to export\n",
        "full_tensor, coords, cells = read_in_files(data_path, vtu_fields = vtu_fields)"
      ],
      "execution_count": null,
      "outputs": []
    },
    {
      "cell_type": "code",
      "metadata": {
        "id": "VIDtKw_ekxpl"
      },
      "source": [
        "#torch.save(full_tensor, '/content/gdrive/MyDrive/CO2_V.pt')\n",
        "#torch.save(coords, '/content/gdrive/MyDrive/CO2_mesh_V.pt')"
      ],
      "execution_count": null,
      "outputs": []
    },
    {
      "cell_type": "code",
      "metadata": {
        "colab": {
          "base_uri": "https://localhost:8080/"
        },
        "id": "FVhnWtv7Omp4",
        "outputId": "daa58308-5e0c-4c12-ecd1-1fa855921895"
      },
      "source": [
        "full_tensor = torch.load('/content/gdrive/MyDrive/CO2_V.pt').float()\n",
        "coords = torch.load('/content/gdrive/MyDrive/CO2_mesh_V.pt')\n",
        "full_tensor.shape"
      ],
      "execution_count": null,
      "outputs": [
        {
          "data": {
            "text/plain": [
              "torch.Size([455, 148906, 4])"
            ]
          },
          "execution_count": 27,
          "metadata": {},
          "output_type": "execute_result"
        }
      ]
    },
    {
      "cell_type": "code",
      "metadata": {
        "colab": {
          "base_uri": "https://localhost:8080/"
        },
        "id": "SkGNN6vhFaRC",
        "outputId": "35633f25-8bbe-4201-d143-5275ca11efec"
      },
      "source": [
        "# use ncurve_python_subdomain_space_filling_curve provided in fortran code to calculate space_filling_orederings\n",
        "ncurves = 3  # specify space-filling curve numbers\n",
        "data_path = 'ClarenceData/'\n",
        "template_vtu = vtktools.vtu(glob.glob(data_path + '*')[0])\n",
        "space_filling_orderings, invert_space_filling_orderings = get_sfc_curves_from_coords_CG(coords, ncurves,template_vtu)\n",
        "print(space_filling_orderings)\n",
        "grid_search_load = space_filling_orderings"
      ],
      "execution_count": null,
      "outputs": [
        {
          "name": "stdout",
          "output_type": "stream",
          "text": [
            "[array([ 4185,  4184,  9563, ..., 29697, 24826, 32895]), array([53488, 53489, 53491, ..., 28842, 38661, 34065]), array([37732, 30853, 23924, ..., 66746, 66187, 61376])]\n",
            "[array([ 4185,  4184,  9563, ..., 29697, 24826, 32895]), array([53488, 53489, 53491, ..., 28842, 38661, 34065]), array([37732, 30853, 23924, ..., 66746, 66187, 61376])]\n"
          ]
        }
      ]
    },
    {
      "cell_type": "code",
      "metadata": {
        "id": "2sv6udKt7Izn"
      },
      "source": [
        "#torch.save(space_filling_orderings, '/content/gdrive/MyDrive/CO2_sfc.pt')\n",
        "#torch.save(invert_space_filling_orderings, '/content/gdrive/MyDrive/CO2_invsfc.pt')"
      ],
      "execution_count": null,
      "outputs": []
    },
    {
      "cell_type": "code",
      "metadata": {
        "id": "DxILi2MSLvhH"
      },
      "source": [
        "# load space_filling_orderings for the autoencoder to map the data\n",
        "space_filling_orderings = list(torch.load('/content/gdrive/MyDrive/CO2_sfc.pt'))\n",
        "invert_space_filling_orderings = list(torch.load('/content/gdrive/MyDrive/CO2_invsfc.pt'))"
      ],
      "execution_count": null,
      "outputs": []
    },
    {
      "cell_type": "code",
      "metadata": {
        "colab": {
          "background_save": true
        },
        "id": "HnMR50GaH6Hm"
      },
      "source": [
        "#visualize the space-filling curve on a 2D plane\n",
        "countour_plot_vtu_2D(coords[space_filling_orderings[2]], 20)"
      ],
      "execution_count": null,
      "outputs": []
    },
    {
      "cell_type": "code",
      "metadata": {
        "id": "eWfPYW3uP7xA"
      },
      "source": [
        "# split the train, valid and test data set as 8:1:1\n",
        "train_ratio = 0.8\n",
        "valid_ratio = 0.1\n",
        "test_ratio = 0.1 \n",
        "train_index, valid_index, test_index = index_split(train_ratio, valid_ratio, test_ratio, total_num = full_tensor.shape[0])\n",
        "full_set, k, b = standardlize_tensor(full_tensor, lower = -1, upper = 1)\n",
        "\n",
        "train_set = full_set[train_index - 1]\n",
        "valid_set = full_set[valid_index - 1]\n",
        "test_set = full_set[test_index - 1]\n",
        "\n",
        "valid_batch_size = valid_set.shape[0]\n",
        "test_batch_size = test_set.shape[0]\n",
        "\n",
        "train_loader = DataLoader(dataset=train_set, batch_size=batch_size, shuffle=True)\n",
        "valid_loader = DataLoader(dataset=valid_set, batch_size=valid_batch_size, shuffle=True)\n",
        "test_loader = DataLoader(dataset=test_set, batch_size=test_batch_size, shuffle=True)"
      ],
      "execution_count": null,
      "outputs": []
    },
    {
      "cell_type": "code",
      "metadata": {
        "colab": {
          "base_uri": "https://localhost:8080/"
        },
        "id": "dx0TNaIWpskc",
        "outputId": "bd147b9a-43eb-4e5e-fdf4-241c205b0096"
      },
      "source": [
        "print(k.detach().numpy())\n",
        "b.detach().numpy()"
      ],
      "execution_count": null,
      "outputs": [
        {
          "name": "stdout",
          "output_type": "stream",
          "text": [
            "[1.8421940e-03 7.6536483e-01 2.0014703e+00 2.1555524e+00]\n"
          ]
        },
        {
          "data": {
            "text/plain": [
              "array([-1.730393  , -0.5493109 ,  0.49897358, -0.00207802], dtype=float32)"
            ]
          },
          "execution_count": 12,
          "metadata": {
            "tags": []
          },
          "output_type": "execute_result"
        }
      ]
    },
    {
      "cell_type": "markdown",
      "metadata": {
        "id": "r7lleeN8bjbG"
      },
      "source": [
        "#Convolutional autoencoder <a name='second-bullet'></a>"
      ]
    },
    {
      "cell_type": "markdown",
      "metadata": {
        "id": "281LCu1tbzhr"
      },
      "source": [
        "## Indicate the parameters for the **autoencoder**\n",
        "\n",
        "`input_size` is the number of Nodes, e.g. 148906 <br> `dimension` is the dimension of the data in Vtu files, e.g. 3 including CO2 and Velocity fields.<br> `components` is the number of components that will be compressed, if the tensor is 2 dimension, then it is default of 1. `self_concat` is channel copying operation, you could keep it default as 1, or 2 when you have multiple SFCs. <br> `structured`: bool, whether you are training SFC-CAE on a structured mesh or not.<br>`nearest_neighboring`: bool, adding sparse layers or not, suggest to turn on.<br>\n",
        "`dims_letent`: The dimension of the compressed data after applying decoder. <br>\n",
        "`space_filling_orderings`, `invert_space_filling_orderings` : lists of sfc\\inverse_sfc nums, generated by `get_sfc_curves_from_coords` function, or read the orderings from a `csv` file on your own. <br>\n",
        "`activation`: Can be customly defined, but if you not spcify, the activation would be `ReLU()` for structured mesh, and `Tanh()` for unstructured mesh."
      ]
    },
    {
      "cell_type": "code",
      "metadata": {
        "id": "NJdku3am_JVE"
      },
      "source": [
        "input_size = train_set.shape[1]\n",
        "dimension = 3 # CO2 and velocity feild\n",
        "components = full_tensor.shape[-1]\n",
        "self_concat = 2\n",
        "structured = False\n",
        "nearest_neighbouring = True # set this to Flase will result in slightly poorer performance, but a quicker training speed\n",
        "dims_latent = 1 # bottleneck layer you want to compress\n",
        "activation = nn.Tanh() # nn.LeakyReLU() nn.Relu()\n",
        "variational = False"
      ],
      "execution_count": null,
      "outputs": []
    },
    {
      "cell_type": "code",
      "metadata": {
        "id": "oSzFz4Og_dbr"
      },
      "source": [
        "# define the autoencoder based on the settings above\n",
        "autoencoder = SFC_CAE(input_size,\n",
        "             dimension,\n",
        "             components,\n",
        "             structured,\n",
        "             self_concat,\n",
        "             nearest_neighbouring,\n",
        "             dims_latent,\n",
        "             space_filling_orderings, \n",
        "             invert_space_filling_orderings,\n",
        "             activation,\n",
        "             variational = variational)"
      ],
      "execution_count": null,
      "outputs": []
    },
    {
      "cell_type": "code",
      "metadata": {
        "id": "xXcjHW1q_gTz"
      },
      "source": [
        "# basd on trial observations (tested on batch_size 8,16,32,64,128) we final choose 16 and lr at 1e-3\n",
        "batch_size = 16\n",
        "seed = 42\n",
        "lr = 1e-3\n",
        "n_epochs = 2000\n",
        "weight_decay = 0\n",
        "optimizer = 'Adamax' # we tested Adam, Nadam, SGD-momentum, finally Adamax is chosen as it provides better performance generally\n",
        "criterion_type = 'MSE' # mean squared error"
      ],
      "execution_count": null,
      "outputs": []
    },
    {
      "cell_type": "code",
      "metadata": {
        "colab": {
          "base_uri": "https://localhost:8080/",
          "height": 53
        },
        "id": "pXLuepRbU_Ao",
        "outputId": "5a06b4fa-abdc-4a79-acdd-045ecfc28e97"
      },
      "source": [
        "# check the interface of the wrapper to see if there is anything missing\n",
        "from inspect import signature\n",
        "sig = signature(train_model)\n",
        "str(sig)"
      ],
      "execution_count": null,
      "outputs": [
        {
          "data": {
            "application/vnd.google.colaboratory.intrinsic+json": {
              "type": "string"
            },
            "text/plain": [
              "\"(autoencoder, train_loader, valid_loader, test_loader, optimizer='Adamax', state_load=None, n_epochs=100, varying_lr=False, check_gap=3, lr=0.0001, weight_decay=0, criterion_type='MSE', visualize=True, seed=41, save_path=None)\""
            ]
          },
          "execution_count": 22,
          "metadata": {
            "tags": []
          },
          "output_type": "execute_result"
        }
      ]
    },
    {
      "cell_type": "code",
      "metadata": {
        "colab": {
          "base_uri": "https://localhost:8080/"
        },
        "id": "lkEO20tAJYrX",
        "outputId": "0f868e4f-261e-4f48-cad0-937005646f65"
      },
      "source": [
        "print(train_loader.dataset.shape)\n",
        "full_tensor.shape"
      ],
      "execution_count": null,
      "outputs": [
        {
          "name": "stdout",
          "output_type": "stream",
          "text": [
            "torch.Size([364, 148906, 4])\n"
          ]
        },
        {
          "data": {
            "text/plain": [
              "torch.Size([455, 148906, 4])"
            ]
          },
          "execution_count": 16,
          "metadata": {
            "tags": []
          },
          "output_type": "execute_result"
        }
      ]
    },
    {
      "cell_type": "code",
      "metadata": {
        "colab": {
          "background_save": true,
          "base_uri": "https://localhost:8080/",
          "height": 585
        },
        "id": "sZGPFXVG_h3X",
        "outputId": "419d958c-156c-470b-c982-6b128503bd06"
      },
      "source": [
        "# this is the case when dim is compressed to 1\n",
        "# train, validation and test data is pre-defined in the previous cells and the varibles are defined above\n",
        "autoencoder = train_model(autoencoder, \n",
        "               train_loader = train_loader,\n",
        "               valid_loader = valid_loader,\n",
        "               test_loader = test_loader,\n",
        "               optimizer=optimizer,\n",
        "               n_epochs = n_epochs, \n",
        "               lr = lr,\n",
        "               weight_decay = weight_decay,\n",
        "               criterion_type = criterion_type,\n",
        "               visualize = True,\n",
        "               seed = seed)"
      ],
      "execution_count": null,
      "outputs": [
        {
          "data": {
            "image/png": "[encoded data removed]",
            "text/plain": [
              "<Figure size 864x576 with 2 Axes>"
            ]
          },
          "metadata": {},
          "output_type": "display_data"
        },
        {
          "name": "stdout",
          "output_type": "stream",
          "text": [
            "log loss\n",
            "\ttraining         \t (min:    0.058, max:    0.183, cur:    0.058)\n",
            "\tvalidation       \t (min:    0.060, max:    0.139, cur:    0.060)\n",
            "log loss (relative)\n",
            "\ttraining         \t (min:    0.251, max:   71.004, cur:    0.252)\n",
            "\tvalidation       \t (min:    0.252, max:    1.020, cur:    0.261)\n",
            "Epoch:  1999 | train loss: 5.823331e-02 | valid loss: 5.996915e-02 \n",
            "      \t| train loss (relative): 2.522452e-01 | valid loss (relative): 2.609400e-01 \n",
            "Epoch 1999 use: 8.30 second.\n",
            "\n",
            "test MSE Error: 6.759465e-02 | relative MSE Error: 2.941205e-01 \n",
            " Total time used for training: 4.61 hour.\n"
          ]
        }
      ]
    },
    {
      "cell_type": "code",
      "metadata": {
        "colab": {
          "background_save": true
        },
        "id": "cjzzKxhPFQfS",
        "outputId": "91fd6e96-f708-4b02-c8e8-4eaf13f8adaf"
      },
      "source": [
        "test_reconstruct = autoencoder.to('cpu')(test_set)\n",
        "print('test MSE loss: %e' % nn.MSELoss()(test_set, test_reconstruct).item())"
      ],
      "execution_count": null,
      "outputs": [
        {
          "name": "stdout",
          "output_type": "stream",
          "text": [
            "test MSE loss: 6.759465e-02\n"
          ]
        }
      ]
    },
    {
      "cell_type": "code",
      "metadata": {
        "colab": {
          "background_save": true
        },
        "id": "s273uGkNbyub",
        "outputId": "e019e97b-4206-4659-f16f-c2d2687a6c76"
      },
      "source": [
        "# dump the autoencoder and use it later in the PredGAN\n",
        "joblib.dump(autoencoder, \"autoencoder_py_1.pkl\")"
      ],
      "execution_count": null,
      "outputs": [
        {
          "data": {
            "text/plain": [
              "['autoencoder_py_1.pkl']"
            ]
          },
          "execution_count": null,
          "metadata": {},
          "output_type": "execute_result"
        }
      ]
    },
    {
      "cell_type": "code",
      "metadata": {
        "id": "0W_2vppzSXSm"
      },
      "source": [
        "autoencoder = joblib.load(\"autoencoder_py_43.pkl\")"
      ],
      "execution_count": null,
      "outputs": []
    },
    {
      "cell_type": "markdown",
      "metadata": {
        "id": "JI00eakkTBld"
      },
      "source": [
        "# Result to vtu files"
      ]
    },
    {
      "cell_type": "code",
      "metadata": {
        "colab": {
          "background_save": true
        },
        "id": "OqA-FFYQMWkz"
      },
      "source": [
        "# added functions to output vtu files from reconstruct\n",
        "data_path = 'ClarenceData/'\n",
        "save_path = 'ClarenceData/Predictions/dimension_1'\n",
        "vtu_fields = ['CO2_ppm', 'Velocity']\n",
        "model_device = torch.device('cuda')\n",
        "autoencoder = autoencoder.to(model_device)\n",
        "result_vtu_to_vtu(data_path,save_path, vtu_fields, autoencoder, k.detach().numpy(), b.detach().numpy(), model_device = model_device)"
      ],
      "execution_count": null,
      "outputs": []
    },
    {
      "cell_type": "code",
      "metadata": {
        "id": "vbrbFqeZOxmo"
      },
      "source": [
        "# rotate the pic for report\n",
        "from google.colab.patches import cv2_imshow\n",
        "import cv2\n",
        "import imutils\n",
        "image = cv2.imread(r\"/content/gdrive/MyDrive/dimension reduction/SFC-CAE/SFC-CAE-main/contunr_SFC_ordering.png\")\n",
        " \n",
        "rot = imutils.rotate(image, angle=20)\n",
        "cv2_imshow(rot)\n",
        "cv2.waitKey(0)"
      ],
      "execution_count": null,
      "outputs": []
    }
  ]
}