{
  "nbformat": 4,
  "nbformat_minor": 0,
  "metadata": {
    "kernelspec": {
      "display_name": "Python 3",
      "language": "python",
      "name": "python3"
    },
    "language_info": {
      "codemirror_mode": {
        "name": "ipython",
        "version": 3
      },
      "file_extension": ".py",
      "mimetype": "text/x-python",
      "name": "python",
      "nbconvert_exporter": "python",
      "pygments_lexer": "ipython3",
      "version": "3.8.3"
    },
    "colab": {
      "name": "Create_Gif.ipynb",
      "provenance": [],
      "collapsed_sections": []
    }
  },
  "cells": [
    {
      "cell_type": "code",
      "metadata": {
        "id": "TnRPj10HZ3zk"
      },
      "source": [
        "import imageio\n",
        "import numpy as np\n",
        "import os"
      ],
      "execution_count": null,
      "outputs": []
    },
    {
      "cell_type": "code",
      "metadata": {
        "colab": {
          "base_uri": "https://localhost:8080/"
        },
        "id": "HodwC2vvaCOJ",
        "outputId": "d5ebb9eb-2c0c-4ba9-d175-d5de79bd028a"
      },
      "source": [
        "# mounting the google drive\n",
        "from google.colab import drive\n",
        "drive.mount('/content/gdrive/')"
      ],
      "execution_count": null,
      "outputs": [
        {
          "output_type": "stream",
          "text": [
            "Mounted at /content/gdrive/\n"
          ],
          "name": "stdout"
        }
      ]
    },
    {
      "cell_type": "code",
      "metadata": {
        "id": "zqU9y4AzaMCw"
      },
      "source": [
        "# Import to the current path\n",
        "os.chdir('/content/gdrive/MyDrive/dimension reduction/ClarenceData/predictions_animation')"
      ],
      "execution_count": null,
      "outputs": []
    },
    {
      "cell_type": "code",
      "metadata": {
        "id": "N3b-oOaGZ3zt"
      },
      "source": [
        "real_images = []\n",
        "gen_images = []\n",
        "real_filebase = 'reconstruction' # name e.g. reconstruction.0000\n",
        "\n",
        "with imageio.get_writer('ani/gen.gif', mode='I') as gen_writer, imageio.get_writer('ani/real.gif', mode='I') as real_writer:\n",
        "  for i in range(455):\n",
        "    filenum = '0' + str(i)\n",
        "    while len(filenum) < 4:\n",
        "        filenum = '0' + filenum\n",
        "    r_filename =  real_filebase + '.' + filenum + '.png'\n",
        "\n",
        "    r_im = imageio.imread(r_filename)\n",
        "    real_writer.append_data(r_im)"
      ],
      "execution_count": null,
      "outputs": []
    }
  ]
}